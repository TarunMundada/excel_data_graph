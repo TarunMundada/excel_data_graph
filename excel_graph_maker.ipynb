{
 "cells": [
  {
   "cell_type": "code",
   "execution_count": 36,
   "id": "61ee8af0-3f2b-4d81-838a-d481c20380cf",
   "metadata": {},
   "outputs": [
    {
     "name": "stdout",
     "output_type": "stream",
     "text": [
      "Requirement already satisfied: mplfinance in c:\\users\\tarun\\anaconda3\\lib\\site-packages (0.12.10b0)\n",
      "Requirement already satisfied: matplotlib in c:\\users\\tarun\\anaconda3\\lib\\site-packages (from mplfinance) (3.8.4)\n",
      "Requirement already satisfied: pandas in c:\\users\\tarun\\anaconda3\\lib\\site-packages (from mplfinance) (2.2.2)\n",
      "Requirement already satisfied: contourpy>=1.0.1 in c:\\users\\tarun\\anaconda3\\lib\\site-packages (from matplotlib->mplfinance) (1.2.0)\n",
      "Requirement already satisfied: cycler>=0.10 in c:\\users\\tarun\\anaconda3\\lib\\site-packages (from matplotlib->mplfinance) (0.11.0)\n",
      "Requirement already satisfied: fonttools>=4.22.0 in c:\\users\\tarun\\anaconda3\\lib\\site-packages (from matplotlib->mplfinance) (4.51.0)\n",
      "Requirement already satisfied: kiwisolver>=1.3.1 in c:\\users\\tarun\\anaconda3\\lib\\site-packages (from matplotlib->mplfinance) (1.4.4)\n",
      "Requirement already satisfied: numpy>=1.21 in c:\\users\\tarun\\anaconda3\\lib\\site-packages (from matplotlib->mplfinance) (1.26.4)\n",
      "Requirement already satisfied: packaging>=20.0 in c:\\users\\tarun\\anaconda3\\lib\\site-packages (from matplotlib->mplfinance) (23.2)\n",
      "Requirement already satisfied: pillow>=8 in c:\\users\\tarun\\anaconda3\\lib\\site-packages (from matplotlib->mplfinance) (10.3.0)\n",
      "Requirement already satisfied: pyparsing>=2.3.1 in c:\\users\\tarun\\anaconda3\\lib\\site-packages (from matplotlib->mplfinance) (3.0.9)\n",
      "Requirement already satisfied: python-dateutil>=2.7 in c:\\users\\tarun\\anaconda3\\lib\\site-packages (from matplotlib->mplfinance) (2.9.0.post0)\n",
      "Requirement already satisfied: pytz>=2020.1 in c:\\users\\tarun\\anaconda3\\lib\\site-packages (from pandas->mplfinance) (2024.1)\n",
      "Requirement already satisfied: tzdata>=2022.7 in c:\\users\\tarun\\anaconda3\\lib\\site-packages (from pandas->mplfinance) (2023.3)\n",
      "Requirement already satisfied: six>=1.5 in c:\\users\\tarun\\anaconda3\\lib\\site-packages (from python-dateutil>=2.7->matplotlib->mplfinance) (1.16.0)\n",
      "Requirement already satisfied: PyQT5 in c:\\users\\tarun\\anaconda3\\lib\\site-packages (5.15.10)\n",
      "Requirement already satisfied: PyQt5-sip<13,>=12.13 in c:\\users\\tarun\\anaconda3\\lib\\site-packages (from PyQT5) (12.13.0)\n"
     ]
    }
   ],
   "source": [
    "!pip install mplfinance\n",
    "!pip install PyQT5\n"
   ]
  },
  {
   "cell_type": "code",
   "execution_count": 31,
   "id": "addc2c41-7498-44e4-9e02-e2bd7e11010c",
   "metadata": {},
   "outputs": [],
   "source": [
    "import pandas as pd\n",
    "import matplotlib.pyplot as plt\n",
    "import mplfinance as mpf"
   ]
  },
  {
   "cell_type": "code",
   "execution_count": 51,
   "id": "b3c8db8e-f1e1-48a1-a25a-600b4eed1752",
   "metadata": {},
   "outputs": [],
   "source": [
    "%matplotlib qt\n",
    "\n",
    "file_path = r\"C:\\Users\\tarun\\OneDrive\\Desktop\\parv_sample.xlsx\"\n",
    "df = pd.read_excel(file_path)\n",
    "\n",
    "df['Date'] = pd.to_datetime(df['Date'])\n",
    "df.set_index('Date', inplace=True)"
   ]
  },
  {
   "cell_type": "code",
   "execution_count": 44,
   "id": "68bbf3a6-7917-4127-b3dd-184b52e86605",
   "metadata": {},
   "outputs": [],
   "source": [
    "mpf.plot(df,\n",
    "         type='candle',\n",
    "         style='charles',\n",
    "         title='Candlestick Chart',\n",
    "         ylabel='Price')\n",
    "\n",
    "plt.show()"
   ]
  },
  {
   "cell_type": "code",
   "execution_count": 53,
   "id": "b8f9f648-9f1c-46e7-8071-5428e2c9bdbb",
   "metadata": {},
   "outputs": [],
   "source": [
    "plt.figure(figsize=(10, 5))\n",
    "plt.plot(df.index, df['Close'], label='Close Price')\n",
    "plt.xlabel('Date')\n",
    "plt.ylabel('Close Price')\n",
    "plt.title('Close Price Over Time')\n",
    "plt.legend()\n",
    "plt.grid(True)\n",
    "plt.show()"
   ]
  },
  {
   "cell_type": "code",
   "execution_count": 49,
   "id": "0d010710-b6e7-4315-955d-5b8b5121de49",
   "metadata": {},
   "outputs": [],
   "source": [
    "add_plot = mpf.make_addplot(df['Close'],\n",
    "                                color='blue',\n",
    "                                linestyle='-',\n",
    "                                panel=0)\n",
    "mpf.plot(df,type='candle', style='charles', title='Candlestick Chart with Close Price Line', ylabel='Price', addplot=add_plot)\n",
    "\n",
    "plt.show()"
   ]
  },
  {
   "cell_type": "code",
   "execution_count": null,
   "id": "b4a7af16-cdef-4d2d-9518-39f39333264b",
   "metadata": {},
   "outputs": [],
   "source": []
  }
 ],
 "metadata": {
  "kernelspec": {
   "display_name": "Python 3 (ipykernel)",
   "language": "python",
   "name": "python3"
  },
  "language_info": {
   "codemirror_mode": {
    "name": "ipython",
    "version": 3
   },
   "file_extension": ".py",
   "mimetype": "text/x-python",
   "name": "python",
   "nbconvert_exporter": "python",
   "pygments_lexer": "ipython3",
   "version": "3.12.4"
  }
 },
 "nbformat": 4,
 "nbformat_minor": 5
}
